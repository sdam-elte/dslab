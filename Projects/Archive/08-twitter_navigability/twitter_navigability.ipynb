{
 "cells": [
  {
   "cell_type": "markdown",
   "metadata": {},
   "source": [
    "# Navigable networks\n",
    "\n",
    "Networks or graphs $G = (V, E)$ are mathematical constructs consisting of a set of vertices (or nodes) $V$ and edges (or links) $E$ connecting the vertices. In the simplest case, two vertices are either connected or not. Vertices directly connected by an edge are said to be neighbors. Edges can have additional properties, such as length or weight, etc. or can be undirected or directed. If any vertex $A \\in V$ is accessible from any other vertex $B \\in V$ by moving along edges, the graph is said to be connected.\n",
    "\n",
    "The degree $k$ or a node is the number of edges meeting at a given node. The distribution of degrees $P(k)$ is the fraction of nodes of a network with degree $k$. The distance of two vertices is the minimum number of hops along edges on which one can travel from one vertex to another. The distribution of distances for all vertex pairs is an important property of a network, similarly to the maximum possible distance between two vertices which is called the diameter of the graph. Other properties are more difficult to define, such as the clustering coefficient.\n",
    "\n",
    "Random networks are constructed by drawing edges between pairs of vertices based on a stochastic method. An Erdős-Rényi graph is generated simpy by connecting any two vertices with probability $p$. If $p$ is chosen large enough the resulting graph is connected with a small diameter, has a small clustering coefficient and the distribution of degree is binomial. Other types of random network and most real world networks, on the other hand, often show a power law distribution of degree and while their diameter is also small.\n",
    "\n",
    "Vertices can also have additional properties, for instance, in case of spatially embedded networks, each vertex has a two or more dimensional coordinate defined in a metric space. In particular, a small-world networks is when vertices nearby according to the metric of the embedding space are more likely to be connected than long distance links.\n",
    "\n",
    "In the computer, vertices of a graphs are most often represented by integer numbers, and if vertices have additional properties, they can be stored in an array. In case of dense graphs, storing edges in a connectivity matrix is a possibility, for sparse graphs, however, listing the edges instead instead is easier on memory. It is important to organize edges in data structures such way that edges ending at a particular vertex are easy to find.\n",
    "\n",
    "A routing algorithm is a computer program with the purpose of getting from vertex $A$ to $B$ by travelling only along edges. Routing algorithms may rely on local information only about the graph, for example the outgoing edges of the current vertex and their weights, or can have global information about the entire network to help find the way faster. The greedy routing algorithm works on spatially embedded networks. The input parameters to the algorithm are the initial vertex, the target vertex and the coordinates of the latter. The algorithm is always aware of the coordinates of the current vertex and the coordinates of its neighbors. When the greedy routing algorithm arrives at a vertex it considers its neighbors and moves along the outgoing edge which leads to a neighbor that is the closest to the target vertex as expressed with the metric of the embedding space. Hence, the greedy algorithm has some global information of the vertices but connections are only known locally.\n",
    "\n",
    "Navigability is a property of spatially embedded networks with respect to the decentralized routing algorithms. A spatially embedded network is said to be navigable if there is any decentralized algorithm which can find its way in the graph between two randomly chosen vertices. It was shown by Kleinberg that small world networks has this property.\n",
    " \n",
    "https://www.kth.se/social/upload/514c7450f276547cb33a1992/2-kleinberg.pdf\n",
    "\n",
    "## Project goal\n",
    "\n",
    "The goal of this project is to investigate the properties of Twitter users' follower network. Although originally a directed graph, we will only consider bidirectional links of the largest connected component and limit the investigation to users with known geographic coordinates."
   ]
  }
 ],
 "metadata": {
  "kernelspec": {
   "display_name": "Python 3",
   "language": "python",
   "name": "python3"
  },
  "language_info": {
   "codemirror_mode": {
    "name": "ipython",
    "version": 3
   },
   "file_extension": ".py",
   "mimetype": "text/x-python",
   "name": "python",
   "nbconvert_exporter": "python",
   "pygments_lexer": "ipython3",
   "version": "3.6.6"
  }
 },
 "nbformat": 4,
 "nbformat_minor": 2
}
